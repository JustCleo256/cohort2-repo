{
  "nbformat": 4,
  "nbformat_minor": 0,
  "metadata": {
    "colab": {
      "provenance": [],
      "authorship_tag": "ABX9TyOsreU4e3E32fs84L68BrG5",
      "include_colab_link": true
    },
    "kernelspec": {
      "name": "python3",
      "display_name": "Python 3"
    },
    "language_info": {
      "name": "python"
    }
  },
  "cells": [
    {
      "cell_type": "markdown",
      "metadata": {
        "id": "view-in-github",
        "colab_type": "text"
      },
      "source": [
        "<a href=\"https://colab.research.google.com/github/JustCleo256/cohort2-repo/blob/main/Assignment1.ipynb\" target=\"_parent\"><img src=\"https://colab.research.google.com/assets/colab-badge.svg\" alt=\"Open In Colab\"/></a>"
      ]
    },
    {
      "cell_type": "code",
      "execution_count": null,
      "metadata": {
        "id": "eUGUvpPzHYMg",
        "colab": {
          "base_uri": "https://localhost:8080/"
        },
        "outputId": "987ab9b1-ae94-4772-dfb7-b126e5627062"
      },
      "outputs": [
        {
          "output_type": "stream",
          "name": "stdout",
          "text": [
            "['1', '2', '3', '4', '5', '6', '7', '8', '9', '10']\n"
          ]
        }
      ],
      "source": [
        "from typing import List\n",
        "# PART A - DATA STRUCTURES\n",
        "\n",
        "# List of numbers\n",
        "\n",
        "numbers = ['1', '2', '3', '4', '5', '6', '7', '8', '9', '10']\n",
        "\n",
        "print(numbers)\n"
      ]
    },
    {
      "cell_type": "code",
      "source": [
        "# Adding a new number (13)\n",
        "\n",
        "numbers.append(\"13\")\n",
        "\n",
        "print(numbers)"
      ],
      "metadata": {
        "colab": {
          "base_uri": "https://localhost:8080/"
        },
        "id": "kr3AN8CmU_8O",
        "outputId": "0004850b-a199-46c1-84d5-4b4d334acef4"
      },
      "execution_count": null,
      "outputs": [
        {
          "output_type": "stream",
          "name": "stdout",
          "text": [
            "['1', '2', '3', '4', '5', '6', '7', '8', '9', '10', '13']\n"
          ]
        }
      ]
    },
    {
      "cell_type": "code",
      "source": [
        "# Removing a number (5)\n",
        "\n",
        "numbers.remove(\"5\")\n",
        "\n",
        "print(numbers)"
      ],
      "metadata": {
        "colab": {
          "base_uri": "https://localhost:8080/"
        },
        "id": "82KMoRAnV_6K",
        "outputId": "4a8badfd-2448-47b5-ca03-95a0f3913e0c"
      },
      "execution_count": null,
      "outputs": [
        {
          "output_type": "stream",
          "name": "stdout",
          "text": [
            "['1', '2', '3', '4', '6', '7', '8', '9', '10', '13']\n"
          ]
        }
      ]
    },
    {
      "cell_type": "code",
      "source": [
        "# Creating a Tuple of 5 city names.\n",
        "\n",
        "Cities = ('London', 'Kampala', 'Nairobi', 'Munich', 'Paris')\n",
        "\n",
        "print(Cities)"
      ],
      "metadata": {
        "colab": {
          "base_uri": "https://localhost:8080/"
        },
        "id": "LenvEgF_WsGd",
        "outputId": "8c096040-3975-4355-a522-b8bfd6d396a1"
      },
      "execution_count": null,
      "outputs": [
        {
          "output_type": "stream",
          "name": "stdout",
          "text": [
            "('London', 'Kampala', 'Nairobi', 'Munich', 'Paris')\n"
          ]
        }
      ]
    },
    {
      "cell_type": "code",
      "source": [
        "# Attempting to change one\n",
        "\n",
        "Cities.remove('Nairobi')\n",
        "\n",
        "print.Cities\n",
        "\n",
        "# What happens is an attribute error as tuples have no attribute remove thus can not be changed."
      ],
      "metadata": {
        "colab": {
          "base_uri": "https://localhost:8080/",
          "height": 211
        },
        "id": "C9jUHUjQZf8l",
        "outputId": "2f2ef29d-bb00-4e7e-ad8c-4eed7bcee0d8"
      },
      "execution_count": null,
      "outputs": [
        {
          "output_type": "error",
          "ename": "AttributeError",
          "evalue": "'tuple' object has no attribute 'remove'",
          "traceback": [
            "\u001b[0;31m---------------------------------------------------------------------------\u001b[0m",
            "\u001b[0;31mAttributeError\u001b[0m                            Traceback (most recent call last)",
            "\u001b[0;32m<ipython-input-47-23d63b23abd9>\u001b[0m in \u001b[0;36m<cell line: 0>\u001b[0;34m()\u001b[0m\n\u001b[1;32m      1\u001b[0m \u001b[0;31m# Attempting to change one\u001b[0m\u001b[0;34m\u001b[0m\u001b[0;34m\u001b[0m\u001b[0m\n\u001b[1;32m      2\u001b[0m \u001b[0;34m\u001b[0m\u001b[0m\n\u001b[0;32m----> 3\u001b[0;31m \u001b[0mCities\u001b[0m\u001b[0;34m.\u001b[0m\u001b[0mremove\u001b[0m\u001b[0;34m(\u001b[0m\u001b[0;34m'Nairobi'\u001b[0m\u001b[0;34m)\u001b[0m\u001b[0;34m\u001b[0m\u001b[0;34m\u001b[0m\u001b[0m\n\u001b[0m\u001b[1;32m      4\u001b[0m \u001b[0;34m\u001b[0m\u001b[0m\n\u001b[1;32m      5\u001b[0m \u001b[0mprint\u001b[0m\u001b[0;34m.\u001b[0m\u001b[0mCities\u001b[0m\u001b[0;34m\u001b[0m\u001b[0;34m\u001b[0m\u001b[0m\n",
            "\u001b[0;31mAttributeError\u001b[0m: 'tuple' object has no attribute 'remove'"
          ]
        }
      ]
    },
    {
      "cell_type": "code",
      "source": [
        "# Creating a Set of student names.\n",
        "\n",
        "Names = set([\"Jamie\", \"Ella\", \"Theo\", \"Jahmiel\", \"Carl\"])\n",
        "\n",
        "print(Names)"
      ],
      "metadata": {
        "colab": {
          "base_uri": "https://localhost:8080/"
        },
        "id": "kpvKyvFiaB6B",
        "outputId": "ed8354e4-c8df-4520-975b-b5cce3ff869c"
      },
      "execution_count": null,
      "outputs": [
        {
          "output_type": "stream",
          "name": "stdout",
          "text": [
            "{'Jahmiel', 'Ella', 'Jamie', 'Carl', 'Theo'}\n"
          ]
        }
      ]
    },
    {
      "cell_type": "code",
      "source": [
        "# Adding a duplicate\n",
        "\n",
        "\n",
        "Names = set([\"Jamie\", \"Ella\", \"Theo\", \"Jahmiel\", \"Carl\", \"Ella\", \"Theo\"])\n",
        "\n",
        "print(Names)\n",
        "\n",
        "# it adds nothing since sets can not be altered.\n"
      ],
      "metadata": {
        "colab": {
          "base_uri": "https://localhost:8080/"
        },
        "id": "kCOVhXBvbY4P",
        "outputId": "ce6ba909-e95a-40d8-8832-84ad32a25e14"
      },
      "execution_count": null,
      "outputs": [
        {
          "output_type": "stream",
          "name": "stdout",
          "text": [
            "{'Jahmiel', 'Ella', 'Jamie', 'Carl', 'Theo'}\n"
          ]
        }
      ]
    },
    {
      "cell_type": "code",
      "source": [
        "# Creating a dictionary\n",
        "\n",
        "my_dict = {'name': 'Empress Ellah', 'age': '2', 'email': 'empellah@gmail.com'}\n",
        "\n",
        "print(my_dict)"
      ],
      "metadata": {
        "colab": {
          "base_uri": "https://localhost:8080/"
        },
        "id": "kJlWIiA-b605",
        "outputId": "97de14b9-0303-4558-e89f-4e77ddeaf4b6"
      },
      "execution_count": null,
      "outputs": [
        {
          "output_type": "stream",
          "name": "stdout",
          "text": [
            "{'name': 'Empress Ellah', 'age': '2', 'email': 'empellah@gmail.com'}\n"
          ]
        }
      ]
    },
    {
      "cell_type": "code",
      "source": [
        "# Updating email\n",
        "\n",
        "my_dict['email'] = 'empressellah@gmail.com'\n",
        "\n",
        "print(my_dict)"
      ],
      "metadata": {
        "colab": {
          "base_uri": "https://localhost:8080/"
        },
        "id": "jdgxbniSdJ18",
        "outputId": "2431429f-109b-4626-aeca-26b01e72009f"
      },
      "execution_count": null,
      "outputs": [
        {
          "output_type": "stream",
          "name": "stdout",
          "text": [
            "{'name': 'Empress Ellah', 'age': '2', 'email': 'empressellah@gmail.com'}\n"
          ]
        }
      ]
    },
    {
      "cell_type": "code",
      "source": [
        "# Keys\n",
        "\n",
        "my_dict.keys()"
      ],
      "metadata": {
        "colab": {
          "base_uri": "https://localhost:8080/"
        },
        "id": "XVg8maZLd7pY",
        "outputId": "8b5f9df3-7ea2-4a5a-8e72-d21f5aa9ba08"
      },
      "execution_count": null,
      "outputs": [
        {
          "output_type": "execute_result",
          "data": {
            "text/plain": [
              "dict_keys(['name', 'age', 'email'])"
            ]
          },
          "metadata": {},
          "execution_count": 58
        }
      ]
    },
    {
      "cell_type": "code",
      "source": [
        "# Values\n",
        "\n",
        "my_dict.values()"
      ],
      "metadata": {
        "colab": {
          "base_uri": "https://localhost:8080/"
        },
        "id": "myhs6lpWgRmR",
        "outputId": "5b854126-dabd-415a-a935-2fbb42bc35bf"
      },
      "execution_count": null,
      "outputs": [
        {
          "output_type": "execute_result",
          "data": {
            "text/plain": [
              "dict_values(['Empress Ellah', '2', 'empressellah@gmail.com'])"
            ]
          },
          "metadata": {},
          "execution_count": 59
        }
      ]
    },
    {
      "cell_type": "code",
      "source": [
        "# All items\n",
        "\n",
        "my_dict.items()"
      ],
      "metadata": {
        "colab": {
          "base_uri": "https://localhost:8080/"
        },
        "id": "T3dtbpACgYTW",
        "outputId": "cf6a5abd-0af7-47d2-9d9d-8af6cdb9d423"
      },
      "execution_count": null,
      "outputs": [
        {
          "output_type": "execute_result",
          "data": {
            "text/plain": [
              "dict_items([('name', 'Empress Ellah'), ('age', '2'), ('email', 'empressellah@gmail.com')])"
            ]
          },
          "metadata": {},
          "execution_count": 60
        }
      ]
    },
    {
      "cell_type": "code",
      "source": [
        "# PART B - CONTROLFLOW\n",
        "\n",
        "# creating a loop\n",
        "\n",
        "for num in range(1, 21):\n",
        "  if num % 2 == 0:\n",
        "    print(f'{num} is even')\n",
        "  else:\n",
        "    print(f'{num} is odd')"
      ],
      "metadata": {
        "colab": {
          "base_uri": "https://localhost:8080/"
        },
        "id": "Kx7u6plIgjiy",
        "outputId": "79a933b8-a721-4ee5-906f-ae2c4e3afb64"
      },
      "execution_count": null,
      "outputs": [
        {
          "output_type": "stream",
          "name": "stdout",
          "text": [
            "1 is odd\n",
            "2 is even\n",
            "3 is odd\n",
            "4 is even\n",
            "5 is odd\n",
            "6 is even\n",
            "7 is odd\n",
            "8 is even\n",
            "9 is odd\n",
            "10 is even\n",
            "11 is odd\n",
            "12 is even\n",
            "13 is odd\n",
            "14 is even\n",
            "15 is odd\n",
            "16 is even\n",
            "17 is odd\n",
            "18 is even\n",
            "19 is odd\n",
            "20 is even\n"
          ]
        }
      ]
    },
    {
      "cell_type": "code",
      "source": [
        "# iterating over a dictionary from the above data\n",
        "\n",
        "for key in number_dict:\n",
        "  print(f\"Key: {key}, Value: {number_dict[key]}\")\n"
      ],
      "metadata": {
        "colab": {
          "base_uri": "https://localhost:8080/"
        },
        "id": "BRhE-F_wl8jE",
        "outputId": "f372dd94-adca-4362-a6b5-89da6a20290a"
      },
      "execution_count": null,
      "outputs": [
        {
          "output_type": "stream",
          "name": "stdout",
          "text": [
            "Key: 1, Value: odd\n",
            "Key: 2, Value: even\n",
            "Key: 3, Value: odd\n",
            "Key: 4, Value: even\n",
            "Key: 5, Value: odd\n",
            "Key: 6, Value: even\n",
            "Key: 7, Value: odd\n",
            "Key: 8, Value: even\n",
            "Key: 9, Value: odd\n",
            "Key: 10, Value: even\n",
            "Key: 11, Value: odd\n",
            "Key: 12, Value: even\n",
            "Key: 13, Value: odd\n",
            "Key: 14, Value: even\n",
            "Key: 15, Value: odd\n",
            "Key: 16, Value: even\n",
            "Key: 17, Value: odd\n",
            "Key: 18, Value: even\n",
            "Key: 19, Value: odd\n",
            "Key: 20, Value: even\n"
          ]
        }
      ]
    },
    {
      "cell_type": "code",
      "source": [
        "# Program that checks students grade\n",
        "\n",
        "grade = int(input(\"80+: A, 70-79: B, 60-69: C, 50-59: D, < 50: F\"))\n",
        "\n",
        "if grade < 0 or grade > 100:\n",
        "  print(\"Invalid grade!\")\n",
        "else:\n",
        "  if grade >= 80:\n",
        "    print(\"A\")\n",
        "  elif grade >= 70:\n",
        "    print(\"B\")\n",
        "  elif grade >= 60:\n",
        "    print(\"C\")\n",
        "  elif grade >= 50:\n",
        "    print(\"D\")\n",
        "  else:\n",
        "    print(\"F\")\n"
      ],
      "metadata": {
        "id": "DJ9stxhivDFP",
        "colab": {
          "base_uri": "https://localhost:8080/"
        },
        "outputId": "88ac8a3b-6a3b-4b6e-f7a1-67fe0e7029db"
      },
      "execution_count": null,
      "outputs": [
        {
          "output_type": "stream",
          "name": "stdout",
          "text": [
            "80+: A, 70-79: B, 60-69: C, 50-59: D, < 50: F73\n",
            "B\n"
          ]
        }
      ]
    },
    {
      "cell_type": "code",
      "source": [
        "# PART C: FUNCTIONS AND MODULAR CODE\n",
        "\n",
        "# A fuction that returns mean()\n",
        "\n",
        "def calculate_mean(numbers):\n",
        "  if not numbers:\n",
        "    return 0\n",
        "  total = sum(numbers)\n",
        "  mean = total / len(numbers)\n",
        "  return mean\n"
      ],
      "metadata": {
        "id": "huooWfbrtvgu"
      },
      "execution_count": null,
      "outputs": []
    },
    {
      "cell_type": "code",
      "source": [
        "from ctypes import py_object\n",
        "# Creating a module\n",
        "\n",
        "%%writefile"
      ],
      "metadata": {
        "colab": {
          "base_uri": "https://localhost:8080/"
        },
        "id": "W_WDdBZP12dK",
        "outputId": "70cd7612-788c-46bf-c86f-80ce0705e8e8"
      },
      "execution_count": null,
      "outputs": [
        {
          "output_type": "stream",
          "name": "stderr",
          "text": [
            "UsageError: Line magic function `%%writefile` not found.\n"
          ]
        }
      ]
    },
    {
      "cell_type": "code",
      "source": [
        "# PART D: ERROR HANDLING\n",
        "\n",
        "def divide numbers():\n",
        "  try:\n",
        "    num1 = float(input(\"Enter the first number: \"))\n",
        "    num2 = float(input(\"Enter the second number: \"))\n",
        "\n",
        "  if num2 == 0:\n",
        "    raise ZeroDivisionError(\"Cannot divide by zero.\")\n",
        "    result = num1 / num2\n",
        "    print(f\"The result of dividing {num1} by {num2} is: {result}\")\n",
        "\n",
        "\n"
      ],
      "metadata": {
        "colab": {
          "base_uri": "https://localhost:8080/",
          "height": 106
        },
        "id": "JVyYknICARtT",
        "outputId": "d090ce08-c58f-42e7-ffd2-0986a1b1d9c0"
      },
      "execution_count": null,
      "outputs": [
        {
          "output_type": "error",
          "ename": "SyntaxError",
          "evalue": "expected '(' (<ipython-input-33-56ae6a3dfa85>, line 3)",
          "traceback": [
            "\u001b[0;36m  File \u001b[0;32m\"<ipython-input-33-56ae6a3dfa85>\"\u001b[0;36m, line \u001b[0;32m3\u001b[0m\n\u001b[0;31m    def divide numbers():\u001b[0m\n\u001b[0m               ^\u001b[0m\n\u001b[0;31mSyntaxError\u001b[0m\u001b[0;31m:\u001b[0m expected '('\n"
          ]
        }
      ]
    }
  ]
}